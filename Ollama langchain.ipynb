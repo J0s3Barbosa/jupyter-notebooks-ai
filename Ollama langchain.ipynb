{
 "cells": [
  {
   "cell_type": "markdown",
   "metadata": {},
   "source": [
    "### docs"
   ]
  },
  {
   "cell_type": "code",
   "execution_count": null,
   "metadata": {},
   "outputs": [],
   "source": [
    "https://python.langchain.com/docs/integrations/chat/ollama/\n",
    "\n",
    "https://python.langchain.com/docs/integrations/llms/ollama/\n",
    "https://python.langchain.com/docs/concepts/chat_models/\n",
    "https://python.langchain.com/docs/concepts/structured_outputs/\n",
    "https://python.langchain.com/docs/concepts/tokens/\n",
    "https://python.langchain.com/docs/integrations/document_loaders/\n",
    "https://python.langchain.com/docs/integrations/document_loaders/microsoft_word/\n",
    "https://python.langchain.com/docs/integrations/document_loaders/image_captions/\n",
    "https://python.langchain.com/docs/integrations/document_loaders/image/\n",
    "https://python.langchain.com/docs/integrations/document_loaders/microsoft_excel/\n",
    "https://python.langchain.com/docs/integrations/document_loaders/recursive_url/\n",
    "https://python.langchain.com/docs/integrations/memory/\n",
    "\n"
   ]
  },
  {
   "cell_type": "markdown",
   "metadata": {},
   "source": [
    "### install"
   ]
  },
  {
   "cell_type": "code",
   "execution_count": null,
   "metadata": {},
   "outputs": [],
   "source": [
    "%pip install -qU langchain-ollama\n",
    "%pip install -U ollama"
   ]
  },
  {
   "cell_type": "markdown",
   "metadata": {},
   "source": [
    "### imports"
   ]
  },
  {
   "cell_type": "code",
   "execution_count": 4,
   "metadata": {},
   "outputs": [],
   "source": [
    "from langchain_ollama import ChatOllama\n",
    "from langchain_core.messages import AIMessage\n",
    "from langchain_core.prompts import ChatPromptTemplate\n",
    "\n"
   ]
  },
  {
   "cell_type": "markdown",
   "metadata": {},
   "source": [
    "### basic lllm call"
   ]
  },
  {
   "cell_type": "code",
   "execution_count": null,
   "metadata": {},
   "outputs": [],
   "source": [
    "\n",
    "llm = ChatOllama(\n",
    "    model=\"llama3.1\",\n",
    "    temperature=0,\n",
    "    # other params...\n",
    ")\n",
    "\n",
    "prompt = ChatPromptTemplate.from_messages(\n",
    "    [\n",
    "        (\n",
    "            \"system\",\n",
    "            \"You are a helpful assistant that translates {input_language} to {output_language}.\",\n",
    "        ),\n",
    "        (\"human\", \"{input}\"),\n",
    "    ]\n",
    ")\n",
    "\n",
    "chain = prompt | llm\n",
    "chain.invoke(\n",
    "    {\n",
    "        \"input_language\": \"English\",\n",
    "        \"output_language\": \"German\",\n",
    "        \"input\": \"I love programming.\",\n",
    "    }\n",
    ")\n",
    "\n"
   ]
  },
  {
   "cell_type": "markdown",
   "metadata": {},
   "source": [
    "### Tool calling"
   ]
  },
  {
   "cell_type": "code",
   "execution_count": null,
   "metadata": {},
   "outputs": [],
   "source": [
    "from typing import List\n",
    "\n",
    "from langchain_core.tools import tool\n",
    "from langchain_ollama import ChatOllama\n",
    "\n",
    "\n",
    "@tool\n",
    "def validate_user(user_id: int, addresses: List[str]) -> bool:\n",
    "    \"\"\"Validate user using historical addresses.\n",
    "\n",
    "    Args:\n",
    "        user_id (int): the user ID.\n",
    "        addresses (List[str]): Previous addresses as a list of strings.\n",
    "    \"\"\"\n",
    "    return True\n",
    "\n",
    "\n",
    "llm = ChatOllama(\n",
    "    model=\"llama3.1\",\n",
    "    temperature=0,\n",
    ").bind_tools([validate_user])\n",
    "\n",
    "result = llm.invoke(\n",
    "    \"Could you validate user 123? They previously lived at \"\n",
    "    \"123 Fake St in Boston MA and 234 Pretend Boulevard in \"\n",
    "    \"Houston TX.\"\n",
    ")\n",
    "result.tool_calls"
   ]
  },
  {
   "cell_type": "code",
   "execution_count": null,
   "metadata": {},
   "outputs": [],
   "source": [
    "from langchain_core.tools import tool\n",
    "from langchain_ollama import ChatOllama\n",
    "import requests\n",
    "\n",
    "# Define a function to retrieve the exchange rate from API\n",
    "@tool\n",
    "def get_exchange_rate() -> str:\n",
    "    \"\"\"Retrieve the USD-BRL exchange rate\"\"\"\n",
    "    try:\n",
    "        response = requests.get('https://api.exchangerate-api.com/v4/latest/USD')\n",
    "        data = response.json()\n",
    "        print(data)\n",
    "        brl_rate = data['rates']['BRL']\n",
    "        print(brl_rate)\n",
    "        return f\"1 USD is equal to {brl_rate} BRL\"\n",
    "    except Exception as e:\n",
    "        return str(e)\n",
    "\n",
    "# Define the main function\n",
    "@tool\n",
    "def get_current_dollar_rate() -> str:\n",
    "    \"\"\"Get the current dollar rate using API\"\"\"\n",
    "    return get_exchange_rate()\n",
    "\n",
    "# Initialize the ChatOllama model and bind it with tools\n",
    "llm = ChatOllama(\n",
    "    model=\"llama3.1\",\n",
    "    temperature=0,\n",
    ").bind_tools([get_current_dollar_rate])\n",
    "\n",
    "# Invoke the tool to get the current dollar rate\n",
    "result = llm.invoke(\"What is the USD-BRL exchange rate today?\")\n",
    "print(result)\n",
    "print(result.tool_calls)"
   ]
  },
  {
   "cell_type": "markdown",
   "metadata": {},
   "source": [
    "#### current USD to BRL\n",
    "\n",
    "http://localhost:3000/c/dbc115c4-ecfe-4322-adc6-dee923b7f296\n",
    "\n",
    "https://api.bcb.gov.br/dados/serie/bcdata.sgs.10813/dados/ultimos/1?formato=json\n",
    "\n",
    "[{\"data\":\"10/01/2025\",\"valor\":\"6.0959\"}]"
   ]
  },
  {
   "cell_type": "code",
   "execution_count": null,
   "metadata": {},
   "outputs": [],
   "source": [
    "from typing import List\n",
    "from langchain_core.tools import tool\n",
    "from langchain_ollama import ChatOllama\n",
    "import requests\n",
    "\n",
    "# Função para buscar a taxa de câmbio\n",
    "@tool\n",
    "def get_exchange_rate() -> str:\n",
    "    \"\"\"Get the current USD to BRL exchange rate from the Brazilian Central Bank API.\"\"\"\n",
    "    api_url = \"https://api.bcb.gov.br/dados/serie/bcdata.sgs.10813/dados/ultimos/1?formato=json\"\n",
    "\n",
    "    try:\n",
    "        response = requests.get(api_url)\n",
    "        response.raise_for_status()  # Verifica se a resposta é 200 OK\n",
    "        \n",
    "        data = response.json()\n",
    "        \n",
    "        if data:\n",
    "            exchange_rate = data[0][\"valor\"]\n",
    "            return f\"USD = {exchange_rate} BRL\"\n",
    "        else:\n",
    "            return \"No data available.\"\n",
    "    \n",
    "    except requests.exceptions.RequestException as e:\n",
    "        return f\"Error fetching exchange rate: {e}\"\n",
    "\n",
    "# Configuração do LLM\n",
    "llm = ChatOllama(\n",
    "    model=\"llama3.1\",\n",
    "    temperature=0,\n",
    ").bind_tools([get_exchange_rate])\n",
    "\n",
    "# Invoca a pergunta para o LLM, que usa a função 'get_exchange_rate'\n",
    "result = llm.invoke(\n",
    "    \"What is the current USD to BRL exchange rate?\"\n",
    ")\n",
    "\n",
    "# Acessando o resultado dos tool_calls de forma robusta\n",
    "tool_results = [\n",
    "    call.get('output', 'No output available') for call in result.tool_calls\n",
    "]\n",
    "print(tool_results)\n",
    "\n"
   ]
  },
  {
   "cell_type": "code",
   "execution_count": null,
   "metadata": {},
   "outputs": [],
   "source": [
    "from typing import List\n",
    "\n",
    "from langchain_core.tools import tool\n",
    "from langchain_ollama import ChatOllama\n",
    "\n",
    "# Função para buscar a taxa de câmbio\n",
    "@tool\n",
    "def get_exchange_rate() -> str:\n",
    "    \"\"\"Get the current USD to BRL exchange rate from the Brazilian Central Bank API.\"\"\"\n",
    "    api_url = \"https://api.bcb.gov.br/dados/serie/bcdata.sgs.10813/dados/ultimos/1?formato=json\"\n",
    "\n",
    "    try:\n",
    "        response = requests.get(api_url)\n",
    "        response.raise_for_status()  # Verifica se a resposta é 200 OK\n",
    "        \n",
    "        data = response.json()\n",
    "        \n",
    "        if data:\n",
    "            exchange_rate = data[0][\"valor\"]\n",
    "            print(exchange_rate)\n",
    "            return f\"USD = {exchange_rate} BRL\"\n",
    "        else:\n",
    "            return \"No data available.\"\n",
    "    \n",
    "    except requests.exceptions.RequestException as e:\n",
    "        return f\"Error fetching exchange rate: {e}\"\n",
    "\n",
    "llm = ChatOllama(\n",
    "    model=\"llama3.2\",\n",
    "    temperature=0.8,\n",
    ").bind_tools([get_exchange_rate])\n",
    "\n",
    "result = llm.invoke(\n",
    "    \"Could let meknow the current exchange rate between USD and BRL?\"\n",
    ")\n",
    "result.tool_calls"
   ]
  }
 ],
 "metadata": {
  "kernelspec": {
   "display_name": "Python 3",
   "language": "python",
   "name": "python3"
  },
  "language_info": {
   "codemirror_mode": {
    "name": "ipython",
    "version": 3
   },
   "file_extension": ".py",
   "mimetype": "text/x-python",
   "name": "python",
   "nbconvert_exporter": "python",
   "pygments_lexer": "ipython3",
   "version": "3.13.1"
  }
 },
 "nbformat": 4,
 "nbformat_minor": 2
}
