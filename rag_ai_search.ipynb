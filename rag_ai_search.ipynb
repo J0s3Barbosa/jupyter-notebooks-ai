{
 "cells": [
  {
   "cell_type": "markdown",
   "metadata": {},
   "source": [
    "### installs"
   ]
  },
  {
   "cell_type": "code",
   "execution_count": null,
   "metadata": {},
   "outputs": [],
   "source": [
    "%pip install --upgrade pip\n",
    "%pip install langchain-community langchain-ollama langchain-openai PyMuPDF\n",
    "%pip install --upgrade --quiet  azure-search-documents\n",
    "%pip install --upgrade --quiet  azure-identity\n"
   ]
  },
  {
   "cell_type": "markdown",
   "metadata": {},
   "source": [
    "### Imports\n"
   ]
  },
  {
   "cell_type": "code",
   "execution_count": 6,
   "metadata": {},
   "outputs": [],
   "source": [
    "import logging\n",
    "from azure.search.documents import SearchClient\n",
    "from azure.core.credentials import AzureKeyCredential\n",
    "from langchain_openai import AzureChatOpenAI\n",
    "\n",
    "\n",
    "# Configuração do logger\n",
    "logging.basicConfig(level=logging.INFO,\n",
    "                    format='%(asctime)s - %(levelname)s - %(message)s')\n",
    "logger = logging.getLogger(__name__)\n"
   ]
  },
  {
   "cell_type": "code",
   "execution_count": null,
   "metadata": {},
   "outputs": [],
   "source": [
    "logging.getLogger(\"azure\").setLevel(logging.WARNING)\n",
    "logging.getLogger(\"langchain\").setLevel(logging.WARNING)\n"
   ]
  },
  {
   "cell_type": "markdown",
   "metadata": {},
   "source": [
    "### envs"
   ]
  },
  {
   "cell_type": "code",
   "execution_count": 16,
   "metadata": {},
   "outputs": [],
   "source": [
    "\n",
    "AZURE_SEARCH_API_URL = \"\"\n",
    "AZURE_SEARCH_API_KEY = \"\"\n",
    "AZURE_SEARCH_API_INDEX_NAME= \"\"\n",
    "\n",
    "OPENAI_API_KEY =  \"\"\n",
    "OPENAI_API_URL =  \"\"\n",
    "OPENAI_API_VERSION =  \"\" \n",
    "OPENAI_API_MODEL =  \"\" \n"
   ]
  },
  {
   "cell_type": "markdown",
   "metadata": {},
   "source": [
    "### Instantiations"
   ]
  },
  {
   "cell_type": "code",
   "execution_count": 18,
   "metadata": {},
   "outputs": [],
   "source": [
    "llm = AzureChatOpenAI(\n",
    "    api_key=OPENAI_API_KEY,\n",
    "    azure_endpoint=OPENAI_API_URL,\n",
    "    deployment_name=OPENAI_API_MODEL,\n",
    "    api_version=OPENAI_API_VERSION,\n",
    "    verbose=False\n",
    ")"
   ]
  },
  {
   "cell_type": "markdown",
   "metadata": {},
   "source": [
    "### az search"
   ]
  },
  {
   "cell_type": "code",
   "execution_count": null,
   "metadata": {},
   "outputs": [],
   "source": [
    "\n",
    "search_client = SearchClient(\n",
    "    endpoint=AZURE_SEARCH_API_URL,\n",
    "    index_name=AZURE_SEARCH_API_INDEX_NAME,\n",
    "    credential=AzureKeyCredential(AZURE_SEARCH_API_KEY)\n",
    ")\n",
    "\n",
    "query = \"\"\"\n",
    "python ai expirience in the document.\n",
    "   \n",
    "\"\"\"\n",
    "\n",
    "az_search_results = search_client.search(query)\n",
    "for result in az_search_results:\n",
    "    print(result)\n",
    "\n"
   ]
  },
  {
   "cell_type": "markdown",
   "metadata": {},
   "source": [
    "### LLM"
   ]
  },
  {
   "cell_type": "code",
   "execution_count": null,
   "metadata": {},
   "outputs": [],
   "source": [
    "# Concatenates the page content of all search results into a single string.\n",
    "az_search_response = \" \".join([result.page_content for result in az_search_results])\n",
    "\n",
    "messages = [\n",
    "    (\n",
    "    \"system\",\n",
    "    f\"\"\"\n",
    "        You are an AI specialized in analysis.\n",
    "\n",
    "        Questions: {query}.\n",
    "        Context: {az_search_response}.\n",
    "    \"\"\"\n",
    "    ),\n",
    "    (\"human\", query), \n",
    "]\n",
    "\n",
    "ai_msg = llm.invoke(messages)\n",
    "print(\"AI: \", ai_msg.content)"
   ]
  }
 ],
 "metadata": {
  "kernelspec": {
   "display_name": "Python 3",
   "language": "python",
   "name": "python3"
  },
  "language_info": {
   "codemirror_mode": {
    "name": "ipython",
    "version": 3
   },
   "file_extension": ".py",
   "mimetype": "text/x-python",
   "name": "python",
   "nbconvert_exporter": "python",
   "pygments_lexer": "ipython3",
   "version": "3.11.0"
  }
 },
 "nbformat": 4,
 "nbformat_minor": 2
}
