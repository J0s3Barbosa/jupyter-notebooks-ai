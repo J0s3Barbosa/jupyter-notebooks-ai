{
 "cells": [
  {
   "cell_type": "markdown",
   "metadata": {},
   "source": [
    "### docs"
   ]
  },
  {
   "cell_type": "markdown",
   "metadata": {},
   "source": [
    "\"\"\"\n",
    "install ollama on ur pc\n",
    "go to https://ollama.ai/download\n",
    "then install models\n",
    "https://ollama.com/search\n",
    "ollama run llama3.2:1b\n",
    "\n",
    "- ollama list in the terminal\n",
    "to see the models installed\n",
    "\n",
    "NAME                         ID              SIZE      MODIFIED     \n",
    "nomic-embed-text:latest      0a109f422b47    274 MB    2 months ago    \n",
    "llama3.2:latest              a80c4f17acd5    2.0 GB    2 months ago\n",
    "qwen2.5:0.5b                 a8b0c5157701    397 MB    3 months ago\n",
    "\n",
    "\"\"\"\n",
    "\n",
    "https://python.langchain.com/docs/introduction/\n",
    "\n",
    "https://python.langchain.com/docs/how_to/#vector-stores\n",
    "\n",
    "https://python.langchain.com/docs/integrations/vectorstores/\n",
    "\n",
    "https://python.langchain.com/docs/integrations/vectorstores/chroma/\n",
    "\n",
    "https://python.langchain.com/docs/how_to/parent_document_retriever/\n",
    "\n",
    "https://python.langchain.com/docs/integrations/llms/ollama/\n",
    "\n",
    "https://python.langchain.com/docs/concepts/chat_models/\n",
    "\n",
    "https://python.langchain.com/docs/concepts/structured_outputs/\n",
    "\n",
    "https://python.langchain.com/docs/concepts/tokens/\n",
    "\n",
    "https://python.langchain.com/docs/integrations/document_loaders/\n",
    "\n",
    "https://python.langchain.com/docs/integrations/document_loaders/microsoft_word/\n",
    "\n",
    "https://python.langchain.com/docs/integrations/document_loaders/image_captions/\n",
    "\n",
    "https://python.langchain.com/docs/integrations/document_loaders/image/\n",
    "\n",
    "https://python.langchain.com/docs/integrations/document_loaders/microsoft_excel/\n",
    "\n",
    "https://python.langchain.com/docs/integrations/document_loaders/recursive_url/\n",
    "\n",
    "https://python.langchain.com/docs/integrations/memory/\n"
   ]
  },
  {
   "cell_type": "markdown",
   "metadata": {},
   "source": [
    "### installs\n"
   ]
  },
  {
   "cell_type": "code",
   "execution_count": null,
   "metadata": {},
   "outputs": [],
   "source": [
    "%pip install -qU langchain-ollama \n",
    "\n"
   ]
  },
  {
   "cell_type": "markdown",
   "metadata": {},
   "source": [
    "### imports\n"
   ]
  },
  {
   "cell_type": "code",
   "execution_count": 11,
   "metadata": {},
   "outputs": [],
   "source": [
    "from langchain_ollama.llms import OllamaLLM\n"
   ]
  },
  {
   "cell_type": "markdown",
   "metadata": {},
   "source": [
    "### ai questioning\n"
   ]
  },
  {
   "cell_type": "code",
   "execution_count": null,
   "metadata": {},
   "outputs": [],
   "source": [
    "\n",
    "question = f\"\"\"\n",
    "give me a tree of a software development process, from the beginning to the final delivery.\n",
    "\"\"\"\n",
    "\n",
    "model = \"llama3.2:latest\"\n",
    "llm = OllamaLLM(model=model, temperature=0.7)\n",
    "\n",
    "# Create the robust prompt for the LLM\n",
    "prompt = f\"\"\"\n",
    "You are a precise and skilled assistant. Your goal is to answer the user's questions. \n",
    "\n",
    "Question: {question}\n",
    "\n",
    "\"\"\"\n",
    "\n",
    "# Get the LLM response\n",
    "answer = llm(prompt)\n",
    "\n",
    "print(\"AI:\")\n",
    "print(answer)\n"
   ]
  }
 ],
 "metadata": {
  "kernelspec": {
   "display_name": "venv",
   "language": "python",
   "name": "python3"
  },
  "language_info": {
   "codemirror_mode": {
    "name": "ipython",
    "version": 3
   },
   "file_extension": ".py",
   "mimetype": "text/x-python",
   "name": "python",
   "nbconvert_exporter": "python",
   "pygments_lexer": "ipython3",
   "version": "3.13.1"
  }
 },
 "nbformat": 4,
 "nbformat_minor": 2
}
