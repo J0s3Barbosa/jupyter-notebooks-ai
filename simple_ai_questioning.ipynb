{
 "cells": [
  {
   "cell_type": "markdown",
   "metadata": {},
   "source": [
    "### docs"
   ]
  },
  {
   "cell_type": "markdown",
   "metadata": {},
   "source": [
    "\"\"\"\n",
    "install ollama on ur pc\n",
    "go to https://ollama.ai/download\n",
    "then install models\n",
    "https://ollama.com/search\n",
    "ollama run llama3.2:1b\n",
    "\n",
    "- ollama list in the terminal\n",
    "to see the models installed\n",
    "\n",
    "NAME                         ID              SIZE      MODIFIED     \n",
    "nomic-embed-text:latest      0a109f422b47    274 MB    2 months ago    \n",
    "llama3.2:latest              a80c4f17acd5    2.0 GB    2 months ago\n",
    "qwen2.5:0.5b                 a8b0c5157701    397 MB    3 months ago\n",
    "\n",
    "\"\"\"\n",
    "\n",
    "https://python.langchain.com/docs/introduction/\n",
    "\n",
    "https://python.langchain.com/docs/how_to/#vector-stores\n",
    "\n",
    "https://python.langchain.com/docs/integrations/vectorstores/\n",
    "\n",
    "https://python.langchain.com/docs/integrations/vectorstores/chroma/\n",
    "\n",
    "https://python.langchain.com/docs/how_to/parent_document_retriever/\n",
    "\n",
    "https://python.langchain.com/docs/integrations/llms/ollama/\n",
    "\n",
    "https://python.langchain.com/docs/concepts/chat_models/\n",
    "\n",
    "https://python.langchain.com/docs/concepts/structured_outputs/\n",
    "\n",
    "https://python.langchain.com/docs/concepts/tokens/\n",
    "\n",
    "https://python.langchain.com/docs/integrations/document_loaders/\n",
    "\n",
    "https://python.langchain.com/docs/integrations/document_loaders/microsoft_word/\n",
    "\n",
    "https://python.langchain.com/docs/integrations/document_loaders/image_captions/\n",
    "\n",
    "https://python.langchain.com/docs/integrations/document_loaders/image/\n",
    "\n",
    "https://python.langchain.com/docs/integrations/document_loaders/microsoft_excel/\n",
    "\n",
    "https://python.langchain.com/docs/integrations/document_loaders/recursive_url/\n",
    "\n",
    "https://python.langchain.com/docs/integrations/memory/\n"
   ]
  },
  {
   "cell_type": "markdown",
   "metadata": {},
   "source": [
    "### installs\n"
   ]
  },
  {
   "cell_type": "code",
   "execution_count": null,
   "metadata": {},
   "outputs": [],
   "source": [
    "%pip install -qU langchain-ollama \n",
    "\n"
   ]
  },
  {
   "cell_type": "markdown",
   "metadata": {},
   "source": [
    "### imports\n"
   ]
  },
  {
   "cell_type": "code",
   "execution_count": 1,
   "metadata": {},
   "outputs": [],
   "source": [
    "from langchain_ollama.llms import OllamaLLM\n"
   ]
  },
  {
   "cell_type": "markdown",
   "metadata": {},
   "source": [
    "### ai questioning\n"
   ]
  },
  {
   "cell_type": "code",
   "execution_count": null,
   "metadata": {},
   "outputs": [],
   "source": [
    "\n",
    "question = f\"\"\"\n",
    "give me a tree of a software development process, from the beginning to the final delivery.\n",
    "\"\"\"\n",
    "\n",
    "model = \"deepseek-coder-v2:latest\"\n",
    "llm = OllamaLLM(model=model, temperature=0.7)\n",
    "\n",
    "# Create the robust prompt for the LLM\n",
    "prompt = f\"\"\"\n",
    "You are a precise and skilled assistant. Your goal is to answer the user's questions. \n",
    "\n",
    "Question: {question}\n",
    "\n",
    "\"\"\"\n",
    "\n",
    "# Get the LLM response\n",
    "answer = llm(prompt)\n",
    "\n",
    "print(\"AI:\")\n",
    "print(answer)\n"
   ]
  },
  {
   "cell_type": "markdown",
   "metadata": {},
   "source": [
    "### create tasks"
   ]
  },
  {
   "cell_type": "code",
   "execution_count": null,
   "metadata": {},
   "outputs": [],
   "source": [
    "\n",
    "def ai_core(prompt, model, configs):\n",
    "   llm = OllamaLLM(model=model, **configs)\n",
    "\n",
    "   # Get the LLM response\n",
    "   answer = llm(prompt)\n",
    "   return answer\n",
    "\n",
    "question = f\"\"\"\n",
    "integrate azure search to open webUI.\n",
    "\"\"\"\n",
    "\n",
    "# Create the robust prompt for the LLM\n",
    "prompt = \"\"\"\n",
    "    You are an expert in task analysis and decomposition. Your goal is to analyze the provided text and break it down into well-defined tasks with clear descriptions.\n",
    "\n",
    "    Instructions:\n",
    "    1. Carefully analyze the input text to identify key objectives, steps, and dependencies.\n",
    "    2. Extract relevant actions, milestones, or goals that need to be achieved.\n",
    "    3. Generate a structured list of tasks, ensuring each task is:\n",
    "       - Clear and actionable.\n",
    "       - Sequenced logically.\n",
    "       - Concise but informative.\n",
    "    4. Provide a short description for each task, explaining its purpose and expected outcome.\n",
    "    5. If applicable, group tasks into categories or phases.\n",
    "\n",
    "    Input Text:\n",
    "    {question_text}\n",
    "\n",
    "    Output:\n",
    "    Provide a structured task list in the following format:\n",
    "\n",
    "    **Tasks:**\n",
    "    1. **[Task Title]**  \n",
    "       *Description: [Brief explanation of what needs to be done and why it is important.]*\n",
    "\n",
    "    2. **[Task Title]**  \n",
    "       *Description: [Brief explanation of what needs to be done and why it is important.]*\n",
    "\n",
    "    [Continue for all identified tasks.]\n",
    "\n",
    "    Ensure the output is structured, precise, and covers all necessary actions derived from the text.\n",
    "    \"\"\"\n",
    "\n",
    "model = \"deepseek-coder-v2:latest\"\n",
    "configs = {\n",
    "    \"temperature\": 0.9,\n",
    "}\n",
    "    \n",
    "answer = ai_core(prompt.format(question_text=question),model,configs )\n",
    "\n",
    "print(\"AI:\")\n",
    "print(answer)"
   ]
  }
 ],
 "metadata": {
  "kernelspec": {
   "display_name": "Python 3",
   "language": "python",
   "name": "python3"
  },
  "language_info": {
   "codemirror_mode": {
    "name": "ipython",
    "version": 3
   },
   "file_extension": ".py",
   "mimetype": "text/x-python",
   "name": "python",
   "nbconvert_exporter": "python",
   "pygments_lexer": "ipython3",
   "version": "3.11.0"
  }
 },
 "nbformat": 4,
 "nbformat_minor": 2
}
